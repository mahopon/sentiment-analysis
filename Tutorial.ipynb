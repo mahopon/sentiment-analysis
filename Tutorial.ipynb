{
 "cells": [
  {
   "cell_type": "code",
   "execution_count": 49,
   "id": "fa69e616-3ed2-4b46-bd1c-1bd4950c29db",
   "metadata": {},
   "outputs": [],
   "source": [
    "import numpy as np\n",
    "import pandas as pd\n",
    "import matplotlib.pyplot as plt\n",
    "import seaborn as sns\n",
    "\n",
    "plt.style.use(\"ggplot\")\n",
    "\n",
    "import nltk\n",
    "from nltk.sentiment import SentimentIntensityAnalyzer\n",
    "from tqdm.notebook import tqdm"
   ]
  },
  {
   "cell_type": "code",
   "execution_count": null,
   "id": "8ecf6bd5-b52c-40a7-a2cf-cfc980701424",
   "metadata": {},
   "outputs": [],
   "source": [
    "nltk.download(\"vader_lexicon\", download_dir=\"./.venv/nltk_data\")"
   ]
  },
  {
   "cell_type": "code",
   "execution_count": 50,
   "id": "f732556c-bf25-4789-9a8e-9e771189ac2e",
   "metadata": {},
   "outputs": [],
   "source": [
    "df = pd.read_csv(\"./Reviews.csv\")\n",
    "sub_df = df.head(500)"
   ]
  },
  {
   "cell_type": "code",
   "execution_count": 51,
   "id": "4c02d3fb-0c10-47ba-97eb-cc704a09357f",
   "metadata": {},
   "outputs": [
    {
     "data": {
      "image/png": "[encoded data removed]",
      "text/plain": [
       "<Figure size 1000x500 with 1 Axes>"
      ]
     },
     "metadata": {},
     "output_type": "display_data"
    }
   ],
   "source": [
    "ax = sub_df[\"Score\"].value_counts() \\\n",
    "                .sort_index() \\\n",
    "                .plot(kind=\"bar\", \n",
    "                      title=\"Count of Reviews by Stars\", \n",
    "                      figsize=(10,5))\n",
    "ax.set_xlabel(\"Review Stars\")\n",
    "plt.show()"
   ]
  },
  {
   "cell_type": "code",
   "execution_count": 52,
   "id": "f0fc8670-7666-4bf8-b26b-35973f8048eb",
   "metadata": {},
   "outputs": [
    {
     "data": {
      "text/plain": [
       "\"This oatmeal is not good. Its mushy, soft, I don't like it. Quaker Oats is the way to go.\""
      ]
     },
     "execution_count": 52,
     "metadata": {},
     "output_type": "execute_result"
    }
   ],
   "source": [
    "example = sub_df[\"Text\"][50]\n",
    "example"
   ]
  },
  {
   "cell_type": "code",
   "execution_count": 54,
   "id": "6143c54a-1b14-476b-9952-14187e96934f",
   "metadata": {},
   "outputs": [
    {
     "data": {
      "text/plain": [
       "['This', 'oatmeal', 'is', 'not', 'good', '.', 'Its', 'mushy', ',', 'soft']"
      ]
     },
     "execution_count": 54,
     "metadata": {},
     "output_type": "execute_result"
    }
   ],
   "source": [
    "tokens = nltk.word_tokenize(example) # NLTK uses PunktSentenceTokenizer\n",
    "tokens[:10]"
   ]
  },
  {
   "cell_type": "code",
   "execution_count": 56,
   "id": "3b0760d1-a9f5-4504-aaeb-aa1cf7283e9d",
   "metadata": {},
   "outputs": [
    {
     "data": {
      "text/plain": [
       "[('This', 'DT'),\n",
       " ('oatmeal', 'NN'),\n",
       " ('is', 'VBZ'),\n",
       " ('not', 'RB'),\n",
       " ('good', 'JJ'),\n",
       " ('.', '.'),\n",
       " ('Its', 'PRP$'),\n",
       " ('mushy', 'NN'),\n",
       " (',', ','),\n",
       " ('soft', 'JJ')]"
      ]
     },
     "execution_count": 56,
     "metadata": {},
     "output_type": "execute_result"
    }
   ],
   "source": [
    "pos_tags = nltk.pos_tag(tokens) # Part of speech tagging, each word relates to a \"part of speech\", such as Determiner (What is being addressed), adjective, etc\n",
    "pos_tags[:10]"
   ]
  },
  {
   "cell_type": "code",
   "execution_count": 57,
   "id": "c79d2cdd-92b6-413c-91fe-57ea80dd64d1",
   "metadata": {
    "scrolled": true
   },
   "outputs": [
    {
     "name": "stdout",
     "output_type": "stream",
     "text": [
      "(S\n",
      "  This/DT\n",
      "  oatmeal/NN\n",
      "  is/VBZ\n",
      "  not/RB\n",
      "  good/JJ\n",
      "  ./.\n",
      "  Its/PRP$\n",
      "  mushy/NN\n",
      "  ,/,\n",
      "  soft/JJ\n",
      "  ,/,\n",
      "  I/PRP\n",
      "  do/VBP\n",
      "  n't/RB\n",
      "  like/VB\n",
      "  it/PRP\n",
      "  ./.\n",
      "  (ORGANIZATION Quaker/NNP Oats/NNPS)\n",
      "  is/VBZ\n",
      "  the/DT\n",
      "  way/NN\n",
      "  to/TO\n",
      "  go/VB\n",
      "  ./.)\n"
     ]
    }
   ],
   "source": [
    "entities = nltk.chunk.ne_chunk(pos_tags) # Chunking is grouping related words\n",
    "entities.pprint()"
   ]
  },
  {
   "cell_type": "markdown",
   "id": "855bdbd1-a08a-4679-aae9-fb1db5d7bf5e",
   "metadata": {},
   "source": [
    "## Using VADER (Valence Aware Dictionary and sEntiment Reasoner)\n",
    "- Uses a bag of words approach"
   ]
  },
  {
   "cell_type": "code",
   "execution_count": 59,
   "id": "11700e9b-363a-458b-a07f-8bb65534c3cc",
   "metadata": {},
   "outputs": [],
   "source": [
    "sia = SentimentIntensityAnalyzer()"
   ]
  },
  {
   "cell_type": "code",
   "execution_count": 60,
   "id": "1f81f9ab-0297-4f44-8f4b-f278a84a4703",
   "metadata": {},
   "outputs": [
    {
     "data": {
      "text/plain": [
       "{'neg': 0.0, 'neu': 0.334, 'pos': 0.666, 'compound': 0.6115}"
      ]
     },
     "execution_count": 60,
     "metadata": {},
     "output_type": "execute_result"
    }
   ],
   "source": [
    "sia.polarity_scores(\"I am so happy\") # Compound is -1 to 1 to represent the whole sentence"
   ]
  },
  {
   "cell_type": "code",
   "execution_count": 63,
   "id": "f8eb8677-5a8f-4922-a403-831391fbf18a",
   "metadata": {},
   "outputs": [
    {
     "data": {
      "text/plain": [
       "{'neg': 0.468, 'neu': 0.532, 'pos': 0.0, 'compound': -0.6588}"
      ]
     },
     "execution_count": 63,
     "metadata": {},
     "output_type": "execute_result"
    }
   ],
   "source": [
    "sia.polarity_scores(\"This is the worst thing ever!\")"
   ]
  },
  {
   "cell_type": "code",
   "execution_count": 64,
   "id": "804a2e29-b133-43f7-b470-9efff4759c31",
   "metadata": {},
   "outputs": [
    {
     "data": {
      "text/plain": [
       "{'neg': 0.281, 'neu': 0.411, 'pos': 0.308, 'compound': 0.1007}"
      ]
     },
     "execution_count": 64,
     "metadata": {},
     "output_type": "execute_result"
    }
   ],
   "source": [
    "sia.polarity_scores(\"This is the best and worst thing ever!\")"
   ]
  },
  {
   "cell_type": "code",
   "execution_count": 62,
   "id": "2bcff413-e010-41f9-9a29-bab73e04c5f6",
   "metadata": {},
   "outputs": [
    {
     "data": {
      "text/plain": [
       "{'neg': 0.22, 'neu': 0.78, 'pos': 0.0, 'compound': -0.5448}"
      ]
     },
     "execution_count": 62,
     "metadata": {},
     "output_type": "execute_result"
    }
   ],
   "source": [
    "sia.polarity_scores(example)"
   ]
  },
  {
   "cell_type": "code",
   "execution_count": 65,
   "id": "1a79c062-8914-4ff7-95b0-e00a46f62a83",
   "metadata": {},
   "outputs": [
    {
     "data": {
      "application/vnd.jupyter.widget-view+json": {
       "model_id": "c5233f3d0fc54e7fb5781dacb610683e",
       "version_major": 2,
       "version_minor": 0
      },
      "text/plain": [
       "  0%|          | 0/500 [00:00<?, ?it/s]"
      ]
     },
     "metadata": {},
     "output_type": "display_data"
    }
   ],
   "source": [
    "res = {}\n",
    "for i, row in tqdm(sub_df.iterrows(), total=len(sub_df)):\n",
    "    text = row[\"Text\"]\n",
    "    curr_id = row[\"Id\"]\n",
    "    res[curr_id] = sia.polarity_scores(text)\n",
    "\n",
    "\n",
    "res_df = pd.DataFrame(res).T\n",
    "res_df = res_df.reset_index().rename({\"index\": \"Id\"}, axis=1)\n",
    "res_df = res_df.merge(sub_df, how=\"left\")"
   ]
  },
  {
   "cell_type": "code",
   "execution_count": null,
   "id": "a3821a9c-a987-4d39-abe0-8db90c6a1766",
   "metadata": {},
   "outputs": [],
   "source": []
  }
 ],
 "metadata": {
  "kernelspec": {
   "display_name": "Python 3 (ipykernel)",
   "language": "python",
   "name": "python3"
  },
  "language_info": {
   "codemirror_mode": {
    "name": "ipython",
    "version": 3
   },
   "file_extension": ".py",
   "mimetype": "text/x-python",
   "name": "python",
   "nbconvert_exporter": "python",
   "pygments_lexer": "ipython3",
   "version": "3.12.3"
  }
 },
 "nbformat": 4,
 "nbformat_minor": 5
}
